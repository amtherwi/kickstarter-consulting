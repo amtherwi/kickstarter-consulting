{
 "cells": [
  {
   "cell_type": "markdown",
   "metadata": {},
   "source": [
    "W. Blake Cannon | wblakecannon@icloud.com | 12 Sept 2017"
   ]
  },
  {
   "cell_type": "markdown",
   "metadata": {},
   "source": [
    "Kickstarter, the crowdfunding platform, is thinking about providing a consulting service to project founders to help its customers create more successful crowdfunding campaigns. You’ve been asked to do some initial analysis. \n",
    "\n",
    "In order to complete this assignment, please follow the link and download the following Kickstarter dataset: http://bit.ly/2cgMGDm. Use the dataset to complete this task."
   ]
  },
  {
   "cell_type": "markdown",
   "metadata": {},
   "source": [
    "##  Loading  and Inspecting the Kickstarter Data"
   ]
  },
  {
   "cell_type": "code",
   "execution_count": 251,
   "metadata": {
    "collapsed": false
   },
   "outputs": [
    {
     "data": {
      "application/javascript": [
       "IPython.notebook.set_autosave_interval(180000)"
      ]
     },
     "metadata": {},
     "output_type": "display_data"
    },
    {
     "name": "stdout",
     "output_type": "stream",
     "text": [
      "Autosaving every 180 seconds\n",
      "Populating the interactive namespace from numpy and matplotlib\n"
     ]
    }
   ],
   "source": [
    "# Set autosave to 3 minutes\n",
    "%autosave 180\n",
    "# ipython magic\n",
    "%pylab inline\n",
    "# Import modules\n",
    "import os\n",
    "from scipy import stats\n",
    "import numpy as np\n",
    "import pandas as pd\n",
    "import seaborn as sns\n",
    "sns.set(style=\"whitegrid\", color_codes=True)\n",
    "import matplotlib as mpl\n",
    "import matplotlib.pyplot as plt\n",
    "matplotlib.style.use('seaborn-paper')"
   ]
  },
  {
   "cell_type": "code",
   "execution_count": 61,
   "metadata": {
    "collapsed": false
   },
   "outputs": [],
   "source": [
    "# The following code reads all the Kickstarter data into Pandas DataFrames\n",
    "# empty data will be filled in as NaN\n",
    "# The data can be found at http://bit.ly/2cgMGDm\n",
    "kickstarter_df = pd.read_csv('DSI_kickstarterscrape_dataset.csv', keep_default_na=True)\n",
    "# Rename 'project id' to 'project_id' as spaces can confuse code\n",
    "kickstarter_df.rename(columns={'project id': 'project_id'}, inplace=True)\n",
    "# Set index as 'project_id'\n",
    "kickstarter_df.set_index(['project_id'], inplace=True)"
   ]
  },
  {
   "cell_type": "markdown",
   "metadata": {},
   "source": [
    "Read all the Kickstarter csv data into Pandas DataFrames. Empty data will be filled in as NaN. The data can be found at http://bit.ly/2cgMGDm"
   ]
  },
  {
   "cell_type": "code",
   "execution_count": 273,
   "metadata": {
    "collapsed": false
   },
   "outputs": [
    {
     "name": "stdout",
     "output_type": "stream",
     "text": [
      "Rows: 45957\n",
      "Columns: 18\n",
      "12.92 MB\n"
     ]
    }
   ],
   "source": [
    "# Return shape and size to see how much data is being worked with\n",
    "rows, columns = kickstarter_df.shape\n",
    "print 'Rows:', rows\n",
    "print 'Columns:', columns\n",
    "print round(float(os.stat('DSI_kickstarterscrape_dataset.csv').st_size / 1000000.0), 2), 'MB'"
   ]
  },
  {
   "cell_type": "markdown",
   "metadata": {},
   "source": [
    "The dataset is 45,957 rows long, 18 columns wide, and 12.9 MB. Not a very large dataset; but certainly  large enough to justify Python over Excel..."
   ]
  },
  {
   "cell_type": "code",
   "execution_count": 63,
   "metadata": {
    "collapsed": false
   },
   "outputs": [
    {
     "name": "stdout",
     "output_type": "stream",
     "text": [
      "<class 'pandas.core.frame.DataFrame'>\n",
      "Int64Index: 45957 entries, 39409 to 2147460119\n",
      "Data columns (total 16 columns):\n",
      "name                 45957 non-null object\n",
      "url                  45957 non-null object\n",
      "category             45957 non-null object\n",
      "subcategory          45957 non-null object\n",
      "location             44635 non-null object\n",
      "status               45957 non-null object\n",
      "goal                 45957 non-null float64\n",
      "pledged              45945 non-null float64\n",
      "funded percentage    45957 non-null float64\n",
      "backers              45957 non-null int64\n",
      "funded date          45957 non-null object\n",
      "levels               45957 non-null int64\n",
      "reward levels        45898 non-null object\n",
      "updates              45957 non-null int64\n",
      "comments             45957 non-null int64\n",
      "duration             45957 non-null float64\n",
      "dtypes: float64(4), int64(4), object(8)\n",
      "memory usage: 6.0+ MB\n"
     ]
    }
   ],
   "source": [
    "# Show counts and data types for all columns\n",
    "kickstarter_df.info()"
   ]
  },
  {
   "cell_type": "code",
   "execution_count": 64,
   "metadata": {
    "collapsed": false
   },
   "outputs": [
    {
     "name": "stdout",
     "output_type": "stream",
     "text": [
      "Missing data in each Kickstarter dataframe column:\n",
      "location : 1322 missing values is 2.877 % of total\n",
      "pledged : 12 missing values is 0.026 % of total\n",
      "reward levels : 59 missing values is 0.128 % of total\n"
     ]
    }
   ],
   "source": [
    "# Find how many missing values and percentage missing in each column\n",
    "print 'Missing data in each Kickstarter dataframe column:'\n",
    "for c in kickstarter_df.columns:\n",
    "    missing_data = len(kickstarter_df) - kickstarter_df[c].count()\n",
    "    if (missing_data > 0 or missing_data =='NaN'):\n",
    "        print c, ':', missing_data, 'missing values is', str(round(float(missing_data / float(len(kickstarter_df))) * \n",
    "                                                            100, 3)), '% of total'"
   ]
  },
  {
   "cell_type": "markdown",
   "metadata": {},
   "source": [
    "All columns have data except 'location' and 'reward levels'. But still very complete with very little missing values as percentage of whole."
   ]
  },
  {
   "cell_type": "code",
   "execution_count": 65,
   "metadata": {
    "collapsed": false
   },
   "outputs": [
    {
     "data": {
      "text/html": [
       "<div>\n",
       "<table border=\"1\" class=\"dataframe\">\n",
       "  <thead>\n",
       "    <tr style=\"text-align: right;\">\n",
       "      <th></th>\n",
       "      <th>name</th>\n",
       "      <th>url</th>\n",
       "      <th>category</th>\n",
       "      <th>subcategory</th>\n",
       "      <th>location</th>\n",
       "      <th>status</th>\n",
       "      <th>goal</th>\n",
       "      <th>pledged</th>\n",
       "      <th>funded percentage</th>\n",
       "      <th>backers</th>\n",
       "      <th>funded date</th>\n",
       "      <th>levels</th>\n",
       "      <th>reward levels</th>\n",
       "      <th>updates</th>\n",
       "      <th>comments</th>\n",
       "      <th>duration</th>\n",
       "    </tr>\n",
       "    <tr>\n",
       "      <th>project_id</th>\n",
       "      <th></th>\n",
       "      <th></th>\n",
       "      <th></th>\n",
       "      <th></th>\n",
       "      <th></th>\n",
       "      <th></th>\n",
       "      <th></th>\n",
       "      <th></th>\n",
       "      <th></th>\n",
       "      <th></th>\n",
       "      <th></th>\n",
       "      <th></th>\n",
       "      <th></th>\n",
       "      <th></th>\n",
       "      <th></th>\n",
       "      <th></th>\n",
       "    </tr>\n",
       "  </thead>\n",
       "  <tbody>\n",
       "    <tr>\n",
       "      <th>39409</th>\n",
       "      <td>WHILE THE TREES SLEEP</td>\n",
       "      <td>http://www.kickstarter.com/projects/emiliesaba...</td>\n",
       "      <td>Film &amp; Video</td>\n",
       "      <td>Short Film</td>\n",
       "      <td>Columbia, MO</td>\n",
       "      <td>successful</td>\n",
       "      <td>10500.0</td>\n",
       "      <td>11545.0</td>\n",
       "      <td>1.099524</td>\n",
       "      <td>66</td>\n",
       "      <td>Fri, 19 Aug 2011 19:28:17 -0000</td>\n",
       "      <td>7</td>\n",
       "      <td>$25,$50,$100,$250,$500,$1,000,$2,500</td>\n",
       "      <td>10</td>\n",
       "      <td>2</td>\n",
       "      <td>30.00</td>\n",
       "    </tr>\n",
       "    <tr>\n",
       "      <th>126581</th>\n",
       "      <td>Educational Online Trading Card Game</td>\n",
       "      <td>http://www.kickstarter.com/projects/972789543/...</td>\n",
       "      <td>Games</td>\n",
       "      <td>Board &amp; Card Games</td>\n",
       "      <td>Maplewood, NJ</td>\n",
       "      <td>failed</td>\n",
       "      <td>4000.0</td>\n",
       "      <td>20.0</td>\n",
       "      <td>0.005000</td>\n",
       "      <td>2</td>\n",
       "      <td>Mon, 02 Aug 2010 03:59:00 -0000</td>\n",
       "      <td>5</td>\n",
       "      <td>$1,$5,$10,$25,$50</td>\n",
       "      <td>6</td>\n",
       "      <td>0</td>\n",
       "      <td>47.18</td>\n",
       "    </tr>\n",
       "    <tr>\n",
       "      <th>138119</th>\n",
       "      <td>STRUM</td>\n",
       "      <td>http://www.kickstarter.com/projects/185476022/...</td>\n",
       "      <td>Film &amp; Video</td>\n",
       "      <td>Animation</td>\n",
       "      <td>Los Angeles, CA</td>\n",
       "      <td>live</td>\n",
       "      <td>20000.0</td>\n",
       "      <td>56.0</td>\n",
       "      <td>0.002800</td>\n",
       "      <td>3</td>\n",
       "      <td>Fri, 08 Jun 2012 00:00:31 -0000</td>\n",
       "      <td>10</td>\n",
       "      <td>$1,$10,$25,$40,$50,$100,$250,$1,000,$1,337,$9,001</td>\n",
       "      <td>1</td>\n",
       "      <td>0</td>\n",
       "      <td>28.00</td>\n",
       "    </tr>\n",
       "    <tr>\n",
       "      <th>237090</th>\n",
       "      <td>GETTING OVER - One son's search to finally kno...</td>\n",
       "      <td>http://www.kickstarter.com/projects/charnick/g...</td>\n",
       "      <td>Film &amp; Video</td>\n",
       "      <td>Documentary</td>\n",
       "      <td>Los Angeles, CA</td>\n",
       "      <td>successful</td>\n",
       "      <td>6000.0</td>\n",
       "      <td>6535.0</td>\n",
       "      <td>1.089167</td>\n",
       "      <td>100</td>\n",
       "      <td>Sun, 08 Apr 2012 02:14:00 -0000</td>\n",
       "      <td>13</td>\n",
       "      <td>$1,$10,$25,$30,$50,$75,$85,$100,$110,$250,$500...</td>\n",
       "      <td>4</td>\n",
       "      <td>0</td>\n",
       "      <td>32.22</td>\n",
       "    </tr>\n",
       "    <tr>\n",
       "      <th>246101</th>\n",
       "      <td>The Launch of FlyeGrlRoyalty &amp;quot;The New Nam...</td>\n",
       "      <td>http://www.kickstarter.com/projects/flyegrlroy...</td>\n",
       "      <td>Fashion</td>\n",
       "      <td>Fashion</td>\n",
       "      <td>Novi, MI</td>\n",
       "      <td>failed</td>\n",
       "      <td>3500.0</td>\n",
       "      <td>0.0</td>\n",
       "      <td>0.000000</td>\n",
       "      <td>0</td>\n",
       "      <td>Wed, 01 Jun 2011 15:25:39 -0000</td>\n",
       "      <td>6</td>\n",
       "      <td>$10,$25,$50,$100,$150,$250</td>\n",
       "      <td>2</td>\n",
       "      <td>0</td>\n",
       "      <td>30.00</td>\n",
       "    </tr>\n",
       "  </tbody>\n",
       "</table>\n",
       "</div>"
      ],
      "text/plain": [
       "                                                         name  \\\n",
       "project_id                                                      \n",
       "39409                                   WHILE THE TREES SLEEP   \n",
       "126581                   Educational Online Trading Card Game   \n",
       "138119                                                  STRUM   \n",
       "237090      GETTING OVER - One son's search to finally kno...   \n",
       "246101      The Launch of FlyeGrlRoyalty &quot;The New Nam...   \n",
       "\n",
       "                                                          url      category  \\\n",
       "project_id                                                                    \n",
       "39409       http://www.kickstarter.com/projects/emiliesaba...  Film & Video   \n",
       "126581      http://www.kickstarter.com/projects/972789543/...         Games   \n",
       "138119      http://www.kickstarter.com/projects/185476022/...  Film & Video   \n",
       "237090      http://www.kickstarter.com/projects/charnick/g...  Film & Video   \n",
       "246101      http://www.kickstarter.com/projects/flyegrlroy...       Fashion   \n",
       "\n",
       "                   subcategory         location      status     goal  pledged  \\\n",
       "project_id                                                                      \n",
       "39409               Short Film     Columbia, MO  successful  10500.0  11545.0   \n",
       "126581      Board & Card Games    Maplewood, NJ      failed   4000.0     20.0   \n",
       "138119               Animation  Los Angeles, CA        live  20000.0     56.0   \n",
       "237090             Documentary  Los Angeles, CA  successful   6000.0   6535.0   \n",
       "246101                 Fashion         Novi, MI      failed   3500.0      0.0   \n",
       "\n",
       "            funded percentage  backers                      funded date  \\\n",
       "project_id                                                                \n",
       "39409                1.099524       66  Fri, 19 Aug 2011 19:28:17 -0000   \n",
       "126581               0.005000        2  Mon, 02 Aug 2010 03:59:00 -0000   \n",
       "138119               0.002800        3  Fri, 08 Jun 2012 00:00:31 -0000   \n",
       "237090               1.089167      100  Sun, 08 Apr 2012 02:14:00 -0000   \n",
       "246101               0.000000        0  Wed, 01 Jun 2011 15:25:39 -0000   \n",
       "\n",
       "            levels                                      reward levels  \\\n",
       "project_id                                                              \n",
       "39409            7               $25,$50,$100,$250,$500,$1,000,$2,500   \n",
       "126581           5                                  $1,$5,$10,$25,$50   \n",
       "138119          10  $1,$10,$25,$40,$50,$100,$250,$1,000,$1,337,$9,001   \n",
       "237090          13  $1,$10,$25,$30,$50,$75,$85,$100,$110,$250,$500...   \n",
       "246101           6                         $10,$25,$50,$100,$150,$250   \n",
       "\n",
       "            updates  comments  duration  \n",
       "project_id                               \n",
       "39409            10         2     30.00  \n",
       "126581            6         0     47.18  \n",
       "138119            1         0     28.00  \n",
       "237090            4         0     32.22  \n",
       "246101            2         0     30.00  "
      ]
     },
     "execution_count": 65,
     "metadata": {},
     "output_type": "execute_result"
    }
   ],
   "source": [
    "# Inspect the data with .head\n",
    "kickstarter_df.head(5)"
   ]
  },
  {
   "cell_type": "markdown",
   "metadata": {},
   "source": [
    "The .head function gives us a preview of the data without having to load the entire dataset. It shows all the 'columns' of data for each project 'row'. "
   ]
  },
  {
   "cell_type": "code",
   "execution_count": 57,
   "metadata": {
    "collapsed": false
   },
   "outputs": [
    {
     "data": {
      "text/html": [
       "<div>\n",
       "<table border=\"1\" class=\"dataframe\">\n",
       "  <thead>\n",
       "    <tr style=\"text-align: right;\">\n",
       "      <th></th>\n",
       "      <th>goal</th>\n",
       "      <th>pledged</th>\n",
       "      <th>funded percentage</th>\n",
       "      <th>backers</th>\n",
       "      <th>levels</th>\n",
       "      <th>updates</th>\n",
       "      <th>comments</th>\n",
       "      <th>duration</th>\n",
       "    </tr>\n",
       "  </thead>\n",
       "  <tbody>\n",
       "    <tr>\n",
       "      <th>count</th>\n",
       "      <td>4.595700e+04</td>\n",
       "      <td>4.594500e+04</td>\n",
       "      <td>45957.000000</td>\n",
       "      <td>45957.000000</td>\n",
       "      <td>45957.000000</td>\n",
       "      <td>45957.00000</td>\n",
       "      <td>45957.000000</td>\n",
       "      <td>45957.000000</td>\n",
       "    </tr>\n",
       "    <tr>\n",
       "      <th>mean</th>\n",
       "      <td>1.194271e+04</td>\n",
       "      <td>4.980750e+03</td>\n",
       "      <td>1.850129</td>\n",
       "      <td>69.973192</td>\n",
       "      <td>8.004939</td>\n",
       "      <td>4.08508</td>\n",
       "      <td>8.379529</td>\n",
       "      <td>39.995547</td>\n",
       "    </tr>\n",
       "    <tr>\n",
       "      <th>std</th>\n",
       "      <td>1.887583e+05</td>\n",
       "      <td>5.674162e+04</td>\n",
       "      <td>88.492706</td>\n",
       "      <td>688.628479</td>\n",
       "      <td>4.233907</td>\n",
       "      <td>6.43922</td>\n",
       "      <td>174.015737</td>\n",
       "      <td>17.414458</td>\n",
       "    </tr>\n",
       "    <tr>\n",
       "      <th>min</th>\n",
       "      <td>1.000000e-02</td>\n",
       "      <td>0.000000e+00</td>\n",
       "      <td>0.000000</td>\n",
       "      <td>0.000000</td>\n",
       "      <td>0.000000</td>\n",
       "      <td>0.00000</td>\n",
       "      <td>0.000000</td>\n",
       "      <td>1.000000</td>\n",
       "    </tr>\n",
       "    <tr>\n",
       "      <th>25%</th>\n",
       "      <td>1.800000e+03</td>\n",
       "      <td>1.960000e+02</td>\n",
       "      <td>0.044000</td>\n",
       "      <td>5.000000</td>\n",
       "      <td>5.000000</td>\n",
       "      <td>0.00000</td>\n",
       "      <td>0.000000</td>\n",
       "      <td>30.000000</td>\n",
       "    </tr>\n",
       "    <tr>\n",
       "      <th>50%</th>\n",
       "      <td>4.000000e+03</td>\n",
       "      <td>1.310000e+03</td>\n",
       "      <td>1.000000</td>\n",
       "      <td>23.000000</td>\n",
       "      <td>7.000000</td>\n",
       "      <td>2.00000</td>\n",
       "      <td>0.000000</td>\n",
       "      <td>32.000000</td>\n",
       "    </tr>\n",
       "    <tr>\n",
       "      <th>75%</th>\n",
       "      <td>9.862000e+03</td>\n",
       "      <td>4.165000e+03</td>\n",
       "      <td>1.115640</td>\n",
       "      <td>59.000000</td>\n",
       "      <td>10.000000</td>\n",
       "      <td>6.00000</td>\n",
       "      <td>3.000000</td>\n",
       "      <td>48.390000</td>\n",
       "    </tr>\n",
       "    <tr>\n",
       "      <th>max</th>\n",
       "      <td>2.147484e+07</td>\n",
       "      <td>1.026684e+07</td>\n",
       "      <td>15066.000000</td>\n",
       "      <td>87142.000000</td>\n",
       "      <td>80.000000</td>\n",
       "      <td>149.00000</td>\n",
       "      <td>19311.000000</td>\n",
       "      <td>91.960000</td>\n",
       "    </tr>\n",
       "  </tbody>\n",
       "</table>\n",
       "</div>"
      ],
      "text/plain": [
       "               goal       pledged  funded percentage       backers  \\\n",
       "count  4.595700e+04  4.594500e+04       45957.000000  45957.000000   \n",
       "mean   1.194271e+04  4.980750e+03           1.850129     69.973192   \n",
       "std    1.887583e+05  5.674162e+04          88.492706    688.628479   \n",
       "min    1.000000e-02  0.000000e+00           0.000000      0.000000   \n",
       "25%    1.800000e+03  1.960000e+02           0.044000      5.000000   \n",
       "50%    4.000000e+03  1.310000e+03           1.000000     23.000000   \n",
       "75%    9.862000e+03  4.165000e+03           1.115640     59.000000   \n",
       "max    2.147484e+07  1.026684e+07       15066.000000  87142.000000   \n",
       "\n",
       "             levels      updates      comments      duration  \n",
       "count  45957.000000  45957.00000  45957.000000  45957.000000  \n",
       "mean       8.004939      4.08508      8.379529     39.995547  \n",
       "std        4.233907      6.43922    174.015737     17.414458  \n",
       "min        0.000000      0.00000      0.000000      1.000000  \n",
       "25%        5.000000      0.00000      0.000000     30.000000  \n",
       "50%        7.000000      2.00000      0.000000     32.000000  \n",
       "75%       10.000000      6.00000      3.000000     48.390000  \n",
       "max       80.000000    149.00000  19311.000000     91.960000  "
      ]
     },
     "execution_count": 57,
     "metadata": {},
     "output_type": "execute_result"
    }
   ],
   "source": [
    "# Get some quick and dirty statistics with pd.describe\n",
    "kickstarter_df.describe()"
   ]
  },
  {
   "cell_type": "markdown",
   "metadata": {},
   "source": [
    "## Part 1: Foundational Data Analysis"
   ]
  },
  {
   "cell_type": "markdown",
   "metadata": {},
   "source": [
    "###  1. What is the mean (total) pledge that projects get? (not per backer)"
   ]
  },
  {
   "cell_type": "code",
   "execution_count": 66,
   "metadata": {
    "collapsed": false
   },
   "outputs": [
    {
     "name": "stdout",
     "output_type": "stream",
     "text": [
      "$ 4980.75\n"
     ]
    }
   ],
   "source": [
    "# Find mean of 'pledged' column\n",
    "print \"$\", round(kickstarter_df.pledged.mean(), 2)"
   ]
  },
  {
   "cell_type": "markdown",
   "metadata": {},
   "source": [
    "The mean (total) pledge that projects receive is $4980.75."
   ]
  },
  {
   "cell_type": "markdown",
   "metadata": {},
   "source": [
    "### 2. Create a historgram that shows the distribution for number of backers. What is the skew of the distribution?"
   ]
  },
  {
   "cell_type": "code",
   "execution_count": 207,
   "metadata": {
    "collapsed": false
   },
   "outputs": [
    {
     "data": {
      "image/png": "[encoded data removed]",
      "text/plain": [
       "<matplotlib.figure.Figure at 0x12dfd19d0>"
      ]
     },
     "metadata": {},
     "output_type": "display_data"
    }
   ],
   "source": [
    "# Histogram of 'backers' column\n",
    "plt.hist(kickstarter_df['backers'])\n",
    "plt.show()"
   ]
  },
  {
   "cell_type": "code",
   "execution_count": 212,
   "metadata": {
    "collapsed": false
   },
   "outputs": [
    {
     "data": {
      "image/png": "[encoded data removed]",
      "text/plain": [
       "<matplotlib.figure.Figure at 0x13146cd90>"
      ]
     },
     "metadata": {},
     "output_type": "display_data"
    }
   ],
   "source": [
    "# Distribution plot of 'backers' column\n",
    "sns.distplot(kickstarter_df['backers'])\n",
    "plt.show()"
   ]
  },
  {
   "cell_type": "markdown",
   "metadata": {},
   "source": [
    "The above plots are a histogram and a distribution plot of kickstarter backers. It's not very clear. There is **huge** number of projects that receive almost no backers.  This would indicate that distribution of kickstarter backers is strongly positive (right-skewed & left leaning). Let's look more into this."
   ]
  },
  {
   "cell_type": "code",
   "execution_count": 189,
   "metadata": {
    "collapsed": false
   },
   "outputs": [
    {
     "data": {
      "image/png": "[encoded data removed]",
      "text/plain": [
       "<matplotlib.figure.Figure at 0x131d9f090>"
      ]
     },
     "metadata": {},
     "output_type": "display_data"
    }
   ],
   "source": [
    "# Boxplot of'backers' column\n",
    "sns.boxplot(x=kickstarter_df['backers'])\n",
    "plt.show()"
   ]
  },
  {
   "cell_type": "markdown",
   "metadata": {},
   "source": [
    "The boxplot above further proves this skewness. The box (quartiles) is almost not even visible. It appears as a black smudge to the far left of the chart. The extreme outliers are making this data extremely hard to see. Let's look at the numbers and see just how bad the skew is."
   ]
  },
  {
   "cell_type": "code",
   "execution_count": 193,
   "metadata": {
    "collapsed": false
   },
   "outputs": [
    {
     "data": {
      "text/plain": [
       "count    45957.000000\n",
       "mean        69.973192\n",
       "std        688.628479\n",
       "min          0.000000\n",
       "25%          5.000000\n",
       "50%         23.000000\n",
       "75%         59.000000\n",
       "max      87142.000000\n",
       "Name: backers, dtype: float64"
      ]
     },
     "execution_count": 193,
     "metadata": {},
     "output_type": "execute_result"
    }
   ],
   "source": [
    "# Get quick and dirty starts for 'backers'\n",
    "kickstarter_df['backers'].describe()"
   ]
  },
  {
   "cell_type": "markdown",
   "metadata": {},
   "source": [
    "The quick and dirty statistics summary shows some insight as to why.  Look at the quartiles. THe lower 25% is 5, the median is 23, the 75% is 59 and the max is a whopping 87142! A standard deviation of 688 show us that the uniform is far from uniform. Let's quickly clean up the outliers so we can see the distribution more clearly."
   ]
  },
  {
   "cell_type": "code",
   "execution_count": 194,
   "metadata": {
    "collapsed": false
   },
   "outputs": [
    {
     "data": {
      "text/plain": [
       "count    24979.000000\n",
       "mean        46.829016\n",
       "std         29.133568\n",
       "min         12.000000\n",
       "25%         23.000000\n",
       "50%         39.000000\n",
       "75%         65.000000\n",
       "max        128.000000\n",
       "Name: backers, dtype: float64"
      ]
     },
     "execution_count": 194,
     "metadata": {},
     "output_type": "execute_result"
    }
   ],
   "source": [
    "# Filter the original kickstarter dataframe to remove lots of outliers\n",
    "filtered_df = kickstarter_df[((kickstarter_df.backers - kickstarter_df.backers.mean()) / kickstarter_df.backers.std()).abs() < .085]\n",
    "filtered_df['backers'].describe()"
   ]
  },
  {
   "cell_type": "markdown",
   "metadata": {},
   "source": [
    "The above summary statistics show that the data has been significantly filtered from statistical outliers. Let's check a box plot next."
   ]
  },
  {
   "cell_type": "code",
   "execution_count": 191,
   "metadata": {
    "collapsed": false
   },
   "outputs": [
    {
     "data": {
      "image/png": "[encoded data removed]",
      "text/plain": [
       "<matplotlib.figure.Figure at 0x131d8a510>"
      ]
     },
     "metadata": {},
     "output_type": "display_data"
    }
   ],
   "source": [
    "sns.boxplot(x=filtered_df['backers'])\n",
    "plt.show()"
   ]
  },
  {
   "cell_type": "markdown",
   "metadata": {},
   "source": [
    "The box plot above shows the extent of the filtering."
   ]
  },
  {
   "cell_type": "code",
   "execution_count": 195,
   "metadata": {
    "collapsed": false
   },
   "outputs": [
    {
     "data": {
      "image/png": "[encoded data removed]",
      "text/plain": [
       "<matplotlib.figure.Figure at 0x131e13b10>"
      ]
     },
     "metadata": {},
     "output_type": "display_data"
    }
   ],
   "source": [
    "# Histogram of filtered 'backers' column\n",
    "plt.hist(filtered_df['backers'])\n",
    "plt.show()"
   ]
  },
  {
   "cell_type": "code",
   "execution_count": 214,
   "metadata": {
    "collapsed": false
   },
   "outputs": [
    {
     "data": {
      "image/png": "[encoded data removed]",
      "text/plain": [
       "<matplotlib.figure.Figure at 0x131d63f90>"
      ]
     },
     "metadata": {},
     "output_type": "display_data"
    }
   ],
   "source": [
    "# distribution plot of filtered 'backers' column\n",
    "sns.distplot(filtered_df['backers'], kde=False)\n",
    "plt.show()"
   ]
  },
  {
   "cell_type": "markdown",
   "metadata": {},
   "source": [
    "The histogram above now shows the strongly positive (right-skewed & left leaning) distribution in a way that's easier to understand."
   ]
  },
  {
   "cell_type": "code",
   "execution_count": 67,
   "metadata": {
    "collapsed": false
   },
   "outputs": [
    {
     "data": {
      "image/png": "[encoded data removed]",
      "text/plain": [
       "<matplotlib.figure.Figure at 0x11a6e4410>"
      ]
     },
     "metadata": {},
     "output_type": "display_data"
    }
   ],
   "source": [
    "# Countplot\n",
    "sns.countplot(x='backers', data=kickstarter_df)\n",
    "plt.xlabel('Projects')\n",
    "plt.ylabel('Backers')\n",
    "plt.show()"
   ]
  },
  {
   "cell_type": "markdown",
   "metadata": {},
   "source": [
    "Although not a histogram; the countplot above also shows that very few kickstarter projects get massive amount of backers while the vast majorty receive very little, if any, backers."
   ]
  },
  {
   "cell_type": "markdown",
   "metadata": {},
   "source": [
    "### 3a. Is the ‘duration’ variable normally distributed"
   ]
  },
  {
   "cell_type": "code",
   "execution_count": 234,
   "metadata": {
    "collapsed": false
   },
   "outputs": [
    {
     "data": {
      "text/plain": [
       "count    45957.000000\n",
       "mean        39.995547\n",
       "std         17.414458\n",
       "min          1.000000\n",
       "25%         30.000000\n",
       "50%         32.000000\n",
       "75%         48.390000\n",
       "max         91.960000\n",
       "Name: duration, dtype: float64"
      ]
     },
     "execution_count": 234,
     "metadata": {},
     "output_type": "execute_result"
    }
   ],
   "source": [
    "# Describe 'duration' column\n",
    "kickstarter_df['duration'].describe()"
   ]
  },
  {
   "cell_type": "code",
   "execution_count": 197,
   "metadata": {
    "collapsed": false
   },
   "outputs": [
    {
     "data": {
      "image/png": "[encoded data removed]",
      "text/plain": [
       "<matplotlib.figure.Figure at 0x132986210>"
      ]
     },
     "metadata": {},
     "output_type": "display_data"
    }
   ],
   "source": [
    "# Plot histogram of 'duration' column\n",
    "plt.hist(kickstarter_df['duration'])\n",
    "plt.show()"
   ]
  },
  {
   "cell_type": "code",
   "execution_count": 209,
   "metadata": {
    "collapsed": false
   },
   "outputs": [
    {
     "data": {
      "image/png": "[encoded data removed]",
      "text/plain": [
       "<matplotlib.figure.Figure at 0x1299bb150>"
      ]
     },
     "metadata": {},
     "output_type": "display_data"
    }
   ],
   "source": [
    "# Plot distribution plot of 'duration' column\n",
    "sns.distplot(kickstarter_df['duration'], kde=False)\n",
    "plt.show()"
   ]
  },
  {
   "cell_type": "code",
   "execution_count": 246,
   "metadata": {
    "collapsed": false
   },
   "outputs": [
    {
     "data": {
      "image/png": "[encoded data removed]",
      "text/plain": [
       "<matplotlib.figure.Figure at 0x129b8f550>"
      ]
     },
     "metadata": {},
     "output_type": "display_data"
    }
   ],
   "source": [
    "# Plot kde of 'duration' column\n",
    "sns.kdeplot(kickstarter_df['duration'])\n",
    "plt.show()"
   ]
  },
  {
   "cell_type": "markdown",
   "metadata": {},
   "source": [
    "The 'duration' column in the dataset looks to be a bit normally distributed looking at it graphically.  Let's test it mathematically:"
   ]
  },
  {
   "cell_type": "code",
   "execution_count": 248,
   "metadata": {
    "collapsed": false
   },
   "outputs": [
    {
     "data": {
      "image/png": "[encoded data removed]",
      "text/plain": [
       "<matplotlib.figure.Figure at 0x127b0ad90>"
      ]
     },
     "metadata": {},
     "output_type": "display_data"
    }
   ],
   "source": [
    "# Create normal distribution to overlay on top of actual distribution\n",
    "duration_rand_normal = np.random.normal(loc=kickstarter_df['duration'].mean(), scale=kickstarter_df['duration'].std(), size=len(kickstarter_df['duration']))\n",
    "# Overlay standard normal distribution over actual distribution\n",
    "pyplot.hist(kickstarter_df['duration'], alpha=0.5, label='Actual Distribution')\n",
    "pyplot.hist(duration_rand_normal, alpha=0.5, label='Random Standard Normal')\n",
    "pyplot.legend(loc='upper right')\n",
    "pyplot.show()"
   ]
  },
  {
   "cell_type": "markdown",
   "metadata": {},
   "source": [
    "The above chart shows a Gaussian random numbers generated to create a standard normal distribution overlay (green) on top of the actual data (blue). This gives us another idea of how close the actual data is to being standard normal. It's still not conclusive, so let's test it mathematically:"
   ]
  },
  {
   "cell_type": "code",
   "execution_count": 247,
   "metadata": {
    "collapsed": false
   },
   "outputs": [
    {
     "name": "stdout",
     "output_type": "stream",
     "text": [
      "P-value = 0.0 \n",
      "Z-score = 6985.5754355 \n",
      "Distribution is not normal.\n"
     ]
    }
   ],
   "source": [
    "# Convert 'duration' column to NumPy array\n",
    "duration_test = np.array(kickstarter_df['duration'])\n",
    "# k = z-score, p = p-value\n",
    "k,p = stats.mstats.normaltest(duration_test)\n",
    "# If statement to print results of p-test\n",
    "if p < 0.05:\n",
    "    print 'P-value =', p, '\\nZ-score =', k, '\\nDistribution is not normal.'\n",
    "else:\n",
    "    print 'P-value =', p, '\\nZ-score =', k, '\\nDistribution is normal'"
   ]
  },
  {
   "cell_type": "markdown",
   "metadata": {},
   "source": [
    "### 3b. If you could collect data on another attribute of these projects, what would it be and why?"
   ]
  },
  {
   "cell_type": "markdown",
   "metadata": {},
   "source": [
    "Although I have not done a very detailed analysis of the data, the one thing that catches my eye is a lack of some sort of way to distinguish which individual backers have contributed to each project. It would be interesting to see  what the distribution looks like of each backer to see how many projects they have backed. I imagine this information is in a separate database as it would be very combersome to try and present that information in this .csv. If that was in a separate database or csv some SQL joints could be used for analysis."
   ]
  },
  {
   "cell_type": "markdown",
   "metadata": {},
   "source": [
    "## Part 2:  Qualitative Analysis"
   ]
  },
  {
   "cell_type": "markdown",
   "metadata": {},
   "source": [
    "Create a presentation using Google Slides (max. 5 slides) using the data above (and additional data from those tables) that make clear recommendations on how people can create a successful Kickstarter campaign."
   ]
  },
  {
   "cell_type": "markdown",
   "metadata": {},
   "source": [
    "### Be sure to consider the following:"
   ]
  },
  {
   "cell_type": "markdown",
   "metadata": {},
   "source": [
    "- What's the best length of time to run a campaign?\n",
    "- What's the ideal pledge goal?\n",
    "- What type of projects would be most successful at getting funded?\n",
    "- Is there an ideal month/day/time to launch a campaign?"
   ]
  },
  {
   "cell_type": "code",
   "execution_count": null,
   "metadata": {
    "collapsed": true
   },
   "outputs": [],
   "source": []
  }
 ],
 "metadata": {
  "anaconda-cloud": {},
  "kernelspec": {
   "display_name": "Python [conda env:DAND]",
   "language": "python",
   "name": "conda-env-DAND-py"
  },
  "language_info": {
   "codemirror_mode": {
    "name": "ipython",
    "version": 2
   },
   "file_extension": ".py",
   "mimetype": "text/x-python",
   "name": "python",
   "nbconvert_exporter": "python",
   "pygments_lexer": "ipython2",
   "version": "2.7.12"
  }
 },
 "nbformat": 4,
 "nbformat_minor": 2
}
